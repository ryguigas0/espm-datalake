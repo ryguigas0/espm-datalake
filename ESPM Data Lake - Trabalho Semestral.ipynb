{
 "cells": [
  {
   "cell_type": "markdown",
   "metadata": {
    "application/vnd.databricks.v1+cell": {
     "cellMetadata": {
      "byteLimit": 2048000,
      "rowLimit": 10000
     },
     "inputWidgets": {},
     "nuid": "b547a72d-e048-4af6-8ab2-69750145cde5",
     "showTitle": false,
     "tableResultSettingsMap": {},
     "title": ""
    }
   },
   "source": [
    "## Setup spark"
   ]
  },
  {
   "cell_type": "markdown",
   "metadata": {
    "application/vnd.databricks.v1+cell": {
     "cellMetadata": {
      "byteLimit": 2048000,
      "rowLimit": 10000
     },
     "inputWidgets": {},
     "nuid": "40fc4c55-356a-4547-ac60-002370c44ca6",
     "showTitle": false,
     "tableResultSettingsMap": {},
     "title": ""
    }
   },
   "source": [
    "## Ingestão\n",
    "Leitura dos dados no banco de dados e upload para a storage account"
   ]
  },
  {
   "cell_type": "code",
   "execution_count": 0,
   "metadata": {
    "application/vnd.databricks.v1+cell": {
     "cellMetadata": {
      "byteLimit": 2048000,
      "rowLimit": 10000
     },
     "inputWidgets": {},
     "nuid": "f0563c34-04dc-4f4c-8ce4-386164f719bb",
     "showTitle": false,
     "tableResultSettingsMap": {},
     "title": ""
    }
   },
   "outputs": [],
   "source": [
    "from datetime import datetime\n",
    "\n",
    "now = datetime.now()\n",
    "\n",
    "from pyspark.sql import SparkSession\n",
    "\n",
    "STRG_CONTAINER_KEY = 'INSERT YOUR KEY'\n",
    "\n",
    "session = SparkSession.builder.getOrCreate()\n",
    "\n",
    "session.conf.set(\"spark.sql.sourcers.commitProtocolClass\", \"org.apache.spark.sql.execution.datasources.SQLHadoopMapReduceCommitProtocol\")\n",
    "session.conf.set(\"parquet.enable.summary-metadata\", \"false\")\n",
    "session.conf.set(\"fs.azure.account.key.trabalho06022003.dfs.core.windows.net\", STRG_CONTAINER_KEY)"
   ]
  },
  {
   "cell_type": "code",
   "execution_count": 0,
   "metadata": {
    "application/vnd.databricks.v1+cell": {
     "cellMetadata": {
      "byteLimit": 2048000,
      "rowLimit": 10000
     },
     "inputWidgets": {},
     "nuid": "59d65dc9-96ca-444c-a328-8d55b130e1ee",
     "showTitle": false,
     "tableResultSettingsMap": {},
     "title": ""
    }
   },
   "outputs": [
    {
     "output_type": "stream",
     "name": "stdout",
     "output_type": "stream",
     "text": [
      "TABLE COUNT: 22\nloc_age_bco\nroot\n |-- cd_agencia: integer (nullable = true)\n |-- Nm_Agencia: string (nullable = true)\n |-- cd_banco: integer (nullable = true)\n\nNone\n+----------+--------------------+--------+\n|cd_agencia|          nm_agencia|cd_banco|\n+----------+--------------------+--------+\n|         1|       RUA BOA VISTA|     246|\n|         2|       RUA BOA VISTA|      25|\n|         3|       RUA BOA VISTA|     641|\n|         4|       RUA BOA VISTA|      29|\n|         5|       RUA BOA VISTA|      38|\n|         6|       RUA BOA VISTA|     740|\n|         7|     RUA 25 DE MAR?O|     107|\n|         8|     RUA 25 DE MAR?O|      31|\n|         9|RUA BAR?O DE LIMEIRA|      96|\n|        10|        AV. PAULISTA|     394|\n|        11|  RUA 15 DE NOVEMBRO|     318|\n|        12|        AV. PAULISTA|     752|\n|        13|       RUA BOA VISTA|     248|\n|        14|        AV. PAULISTA|      36|\n|        15|        AV. PAULISTA|     237|\n|        16|  RUA 15 DE NOVEMBRO|     225|\n|        17|  RUA 15 DE NOVEMBRO|      44|\n|        18|       RUA BOA VISTA|     263|\n|        19|  RUA 15 DE NOVEMBRO|     222|\n|        20|  RUA 15 DE NOVEMBRO|      40|\n+----------+--------------------+--------+\nonly showing top 20 rows\n\nloc_agencia\nroot\n |-- cd_Agencia: integer (nullable = true)\n |-- Nm_Agencia: string (nullable = true)\n |-- cd_Cidade: integer (nullable = true)\n\nNone\n+----------+--------------------+---------+\n|cd_agencia|          nm_agencia|cd_cidade|\n+----------+--------------------+---------+\n|         1| VINTE E UM DE ABRIL|        1|\n|         2|          IBIRAPUERA|        1|\n|         3|            S?O JO?O|        1|\n|         4|              SUMARE|        1|\n|         5|    JOSE DINIZ CUNHA|        2|\n|         6| VEREADOR JOSE DINIZ|        3|\n|         7|       SAO SEBASTIAO|        3|\n|         8|        VILA BELMIRO|        4|\n|         9|              CENTRO|       72|\n|        10|     CARLOS NOGUEIRA|       73|\n|        11|             VIDIGAL|       74|\n|        12|         PONTE PRETA|        6|\n|        13|       SETE DE ABRIL|       75|\n|        14|       VILA MADALENA|       77|\n|        15|TRINTA E UM DE JA...|       12|\n|        16|           COQUEIROS|       13|\n|        17|          MIRANDO JR|       15|\n|        18|          GROELANDIA|       16|\n|        19|             PRAINHA|       21|\n|        20|           RIO PRETO|       16|\n+----------+--------------------+---------+\nonly showing top 20 rows\n\nloc_banco\nroot\n |-- cd_Banco: integer (nullable = true)\n |-- Nm_Banco: string (nullable = true)\n |-- url: string (nullable = true)\n\nNone\n+--------+--------------------+--------------------+\n|cd_banco|            nm_banco|                 url|\n+--------+--------------------+--------------------+\n|       1|Banco do Brasil S...|http://www.bb.com.br|\n|       3|Banco da Amaz?nia...|http://www.bancoa...|\n|       4|Banco do Nordeste...|http://www.bancon...|\n|      21|BANESTES S.A. Ban...|http://www.banest...|\n|      24|Banco de Pernambu...|http://www.bandep...|\n|      25|    Banco Alfa S.A. |http://www.bancoa...|\n|      27|Banco do Estado d...|http://www.besc.c...|\n|      29|  Banco Banerj S.A. |http://www.banerj...|\n|      31|    Banco Beg S.A.  |http://www.itau.c...|\n|      33|Banco Santander S...|http://www.santan...|\n|      36|Banco Bradesco BB...|                null|\n|      37|Banco do Estado d...|http://www.banpar...|\n|      38|Banco Banestado S...|http://www.banest...|\n|      40|Banco Cargill S.A.  |http://www.bancoc...|\n|      41|Banco do Estado d...|http://www.banris...|\n|      44|    Banco BVA S.A.  |http://www.bancob...|\n|      45|Banco Opportunity...|http://www.opport...|\n|      47|Banco do Estado d...|http://www.banese...|\n|      62|Hipercard Banco M...|http://www.banco1...|\n|      63|Banco Ibi S.A. Ba...|http://www.ibi.co...|\n+--------+--------------------+--------------------+\nonly showing top 20 rows\n\nloc_cargo\nroot\n |-- Cd_Cargo: integer (nullable = true)\n |-- Nm_Cargo: string (nullable = true)\n\nNone\n+--------+-------------+\n|cd_cargo|     nm_cargo|\n+--------+-------------+\n|       1|   Presidente|\n|       2|      Diretor|\n|       3|      Gerente|\n|       4|          CIO|\n|       5|           BI|\n|       6|    Atendente|\n|       7|     Vendedor|\n|       8|   Supervisor|\n|       9|   Estagiario|\n|      10|  Programador|\n|      11|Filho do Dono|\n+--------+-------------+\n\nloc_cidade\nroot\n |-- Cd_Cidade: integer (nullable = true)\n |-- Nm_Cidade: string (nullable = true)\n |-- Cd_Estado: integer (nullable = true)\n\nNone\n+---------+--------------------+---------+\n|cd_cidade|           nm_cidade|cd_estado|\n+---------+--------------------+---------+\n|        1|           SAO PAULO|        3|\n|        2|           AMERICANA|        3|\n|        3|      RIBEIRAO PRETO|        3|\n|        4|              SANTOS|        3|\n|        5|             JUNDIAI|        3|\n|        6|            CAMPINAS|        3|\n|        7|          SAO CARLOS|        3|\n|        8|             MIRASOL|        3|\n|        9|           COSMORAMA|        3|\n|       10|               JALES|        3|\n|       11|     SANTA FE DO SUL|        3|\n|       12|          SAO CARLOS|        3|\n|       13|            SOROCABA|        3|\n|       14|           SAO ROQUE|        3|\n|       15|          ARARAQUARA|        3|\n|       16|SAO JOSE DO RIO P...|        3|\n|       17|           ARACATUBA|        3|\n|       18|          PIRACICABA|        3|\n|       19|              IBIUNA|        3|\n|       20|      MOGI DA CRUZES|        3|\n+---------+--------------------+---------+\nonly showing top 20 rows\n\nloc_cliente\nroot\n |-- Cd_cliente: integer (nullable = true)\n |-- Nm_Cliente: string (nullable = true)\n |-- Cd_Tp_Cliente: integer (nullable = true)\n |-- Nr_Estrelas: integer (nullable = true)\n |-- Nr_Habilitacao: integer (nullable = true)\n\nNone\n+----------+--------------------+-------------+-----------+--------------+\n|cd_cliente|          nm_cliente|cd_tp_cliente|nr_estrelas|nr_habilitacao|\n+----------+--------------------+-------------+-----------+--------------+\n|         1|ANA RAQUEL FERNANDES|            1|          5|            92|\n|         2|     BEATRIZ LADEIRA|            1|          3|       9293984|\n|         3|      CARLOS BARBOSA|            1|          2|       9293984|\n|         4|      DAYSE OLIVEIRA|            1|          2|       9293984|\n|         5|ERNESTO HONESTO D...|            1|          3|         92939|\n|         6|       FATIMA SOARES|            1|          3|      80012529|\n|         7|      GISELE HOFMANN|            1|          3|         11254|\n|         8|MOISES DE PAULA M...|            1|          3|        929398|\n|         9|     GASQUES BORDONI|            1|          5|       1258544|\n|        10|       HELIO GOTARGO|            1|          5|        111525|\n|        11|HERMES SILVESTRE ...|            1|          5|         92939|\n|        12|      JOAO PANTALEAO|            1|          5|        929398|\n|        13|      PALOMA ALMEIDA|            1|          5|        929398|\n|        14|ELIANA MAGDA DE L...|            1|          5|        929398|\n|        15|JOSE RODRIGUES DE...|            1|          5|      11152589|\n|        16|      CARLOS BARROSO|            1|          2|      11525899|\n|        17| JOAO BORGES CATALAO|            1|          2|        929398|\n|        18|LOURENCO PEREIRA ...|            1|          2|         92939|\n|        19|  MARCELINO CARNEIRO|            1|          2|       9293984|\n|        20|          JOAO ATLAS|            2|          2|       9293984|\n+----------+--------------------+-------------+-----------+--------------+\nonly showing top 20 rows\n\nloc_cor\nroot\n |-- cd_Cor: integer (nullable = true)\n |-- Desc_Cor: string (nullable = true)\n\nNone\n+------+--------+\n|cd_cor|desc_cor|\n+------+--------+\n|     1|  Branco|\n|     2|   Preto|\n|     3|   Prata|\n|     4|    Azul|\n|     5|   Verde|\n|     6|Vermelho|\n|     7| Amarelo|\n+------+--------+\n\nloc_depto\nroot\n |-- Cd_Depto: integer (nullable = true)\n |-- Nm_Depto: string (nullable = true)\n |-- Vl_Orc_Depto: decimal(10,2) (nullable = true)\n\nNone\n+--------+--------------------+------------+\n|cd_depto|            nm_depto|vl_orc_depto|\n+--------+--------------------+------------+\n|       0| Conselho Acionistas|   100000.00|\n|      10|          Financeiro|    50000.00|\n|      31|Vendas - Regi?o N...|    25000.00|\n|      32| Vendas - Regi?o Sul|    25000.00|\n|      33|Vendas - Regi?o S...|    25000.00|\n|      34|Vendas - Regi?o N...|    25000.00|\n|      35|Vendas - Regiao C...|    20000.00|\n|      41|Operacional - Reg...|    12000.00|\n|      42|Operacional - Reg...|    15000.00|\n|      43|Operacional - Reg...|    17000.00|\n|      44|Operacional - reg...|    13000.00|\n|      45|Operacional - Reg...|    16000.00|\n|      50| Administracao Geral|    35000.00|\n|      51|Prospeccao de Cli...|    40000.00|\n+--------+--------------------+------------+\n\nloc_estado\nroot\n |-- Cd_Estado: integer (nullable = true)\n |-- Nm_Estado: string (nullable = true)\n |-- Sigla_Estado: string (nullable = true)\n\nNone\n+---------+-------------------+------------+\n|cd_estado|          nm_estado|sigla_estado|\n+---------+-------------------+------------+\n|        1|   Distrito Federal|          DF|\n|        2|     RIO DE JANEIRO|          RJ|\n|        3|          S?o Paulo|          SP|\n|        4|            Alagoas|          AL|\n|        5|            Sergipe|          SE|\n|        6|         Pernambuco|          PE|\n|        7|     Esp?rito Santo|          ES|\n|        8|            Para?ba|          PB|\n|        9|     Santa Catarina|          SC|\n|       10|Rio Grande do Norte|          RN|\n|       11|               Cear|          CE|\n|       12|              Paran|          PR|\n|       13|  Rio Grande do Sul|          RS|\n|       14|       Minas Gerais|          MG|\n|       15|              Bahia|          BA|\n|       16|             Maranh|          MA|\n|       17|                Goi|          GO|\n|       18|               Piau|          PI|\n|       19| Mato Grosso do Sul|          MS|\n|       20|           Rond?nia|          RO|\n+---------+-------------------+------------+\nonly showing top 20 rows\n\nloc_fabricante\nroot\n |-- cd_Fabricante: integer (nullable = true)\n |-- Nm_Fabricante: string (nullable = true)\n\nNone\n+-------------+-------------+\n|cd_fabricante|nm_fabricante|\n+-------------+-------------+\n|            1|    Chevrolet|\n|            2|         Fiat|\n|            3|         Ford|\n|            4|        Honda|\n|            5|   Vollswagen|\n|            6|     Vermelho|\n|            7|         Audi|\n|            8|    Masserati|\n|            9|      Ferrari|\n|           10|       Jaguar|\n|           11|  Lamborghini|\n|           12|          BMW|\n|           13|       Toyota|\n|           14|       Porshe|\n|           15|      Peugeot|\n|           16|      Citroen|\n|           17|        Volvo|\n|           18|     Mercedes|\n|           19|      Renault|\n+-------------+-------------+\n\nloc_fone_cliente\nroot\n |-- cd_Fone_Cliente: integer (nullable = true)\n |-- Nm_Fone_Cliente: string (nullable = true)\n |-- cd_Cliente: integer (nullable = true)\n |-- cd_Operadora: integer (nullable = true)\n\nNone\n+---------------+---------------+----------+------------+\n|cd_fone_cliente|nm_fone_cliente|cd_cliente|cd_operadora|\n+---------------+---------------+----------+------------+\n|              1| 11 974 324 111|         1|           1|\n|              2| 11 954 324 131|         2|           1|\n|              3| 11 954 324 431|         3|           2|\n|              4| 11 954 355 431|         4|           2|\n|              5| 11 974 356 111|         5|           3|\n|              6| 11 954 764 131|         6|           4|\n|              7| 11 954 774 431|         7|           4|\n|              8| 11 954 884 431|         8|           4|\n|              9| 11 954 554 431|         9|           1|\n|             11| 51 934 555 111|        11|           1|\n|             12| 51 954 551 131|        12|           2|\n|             13| 51 953 323 433|        33|           1|\n|             14| 51 954 324 435|        41|           3|\n|             15| 51 974 324 155|        15|           4|\n|             16| 51 954 375 441|        16|           5|\n|             17| 51 954 367 661|        57|           1|\n|             18| 51 954 355 431|        38|           1|\n|             19| 51 954 344 431|        29|           2|\n+---------------+---------------+----------+------------+\n\nloc_funcionario\nroot\n |-- Cd_Func: integer (nullable = true)\n |-- Nm_Func: string (nullable = true)\n |-- Dt_Inicio: date (nullable = true)\n |-- Cd_Gerente: integer (nullable = true)\n |-- Nr_CPF: integer (nullable = true)\n |-- Vl_Salario: decimal(11,2) (nullable = true)\n |-- Vl_Perc_Comissao: decimal(5,2) (nullable = true)\n |-- Cd_Depto: integer (nullable = true)\n |-- Cd_Cargo: integer (nullable = true)\n\nNone\n+-------+--------------------+----------+----------+------+----------+----------------+--------+--------+\n|cd_func|             nm_func| dt_inicio|cd_gerente|nr_cpf|vl_salario|vl_perc_comissao|cd_depto|cd_cargo|\n+-------+--------------------+----------+----------+------+----------+----------------+--------+--------+\n|      1|         Yuri Gagari|2012-01-01|         0|  null|  23567.98|           25.00|      50|       1|\n|      2|      Maria Oliveira|2013-01-01|         1|  null|  12258.45|           10.00|      50|       2|\n|      3|      Simone Batista|2013-12-18|         1|  null|   6985.63|            7.00|      50|       2|\n|      4|     Adriana Doretto|2013-05-18|         3|  null|   7145.74|            3.00|      42|       3|\n|      5|    MariaLinda Sauro|2013-03-13|         3|  null|   7145.74|            3.00|      42|       3|\n|      6|  Marinaldo de Souza|2013-03-13|         2|  null|   6945.74|            3.00|      42|       3|\n|      7|Jose Carlos da Silva|2013-04-13|         2|  null|   7145.74|            3.00|      42|       3|\n|      8|          Ana Raquel|2013-03-13|         2|  null|   9000.00|            3.00|      50|       4|\n|      9|       Carlo Noronha|2015-03-13|         2|  null|   7500.75|            3.00|      42|       5|\n|     10|      Diogo Sanguino|2013-03-13|         3|  null|   2145.74|            3.00|      10|       6|\n|     11|     Eleonora Sintra|2013-03-13|         3|  null|   2145.74|            3.00|      10|       6|\n|     12|         Helio Gomes|2017-03-13|         6|  null|   5145.74|            3.00|      10|       7|\n|     13|   Rogerio Reis Lima|2019-03-13|         6|  null|   5145.74|            3.00|      33|       7|\n|     14|   Geraldo Reis Lima|2020-03-13|         6|  null|   5145.74|            3.00|      33|       7|\n|     15|Eduardo Satoru Sakai|2013-03-13|         6|  null|   2145.74|            3.00|      33|       6|\n|     16|   Daiane dos Santos|2015-03-13|         4|  null|   4145.74|            3.00|      35|       7|\n|     17|   Aline de Oliveira|2014-03-13|         4|  null|   8145.74|            3.00|      35|      10|\n|     18|     Jozivaldo Abreu|2019-03-13|         4|  null|   3145.74|            3.00|      34|       8|\n|     19|      Ricardo Genaro|2017-03-13|         4|  null|   1145.00|            3.00|      44|       9|\n|     20|     Marcos da Cunha|2018-01-11|         4|  null|   2145.74|            3.00|      44|       6|\n+-------+--------------------+----------+----------+------+----------+----------------+--------+--------+\nonly showing top 20 rows\n\nloc_grupo\nroot\n |-- cd_Grupo: integer (nullable = true)\n |-- Nm_Grupo: string (nullable = true)\n\nNone\n+--------+--------------------+\n|cd_grupo|            nm_grupo|\n+--------+--------------------+\n|       0|        Carro Antigo|\n|       1|        Carro B?sico|\n|       2|        Perua B?sico|\n|       3|Carro com ar cond...|\n|       4|Perua com ar cond...|\n|       5|     Carro Esportivo|\n|       6|       Carro de Luxo|\n|       7|       Carro Moderno|\n|       8|      Carro Especial|\n+--------+--------------------+\n\nloc_item_locacao\nroot\n |-- Nr_Pedido: integer (nullable = true)\n |-- Nr_Placa: string (nullable = true)\n |-- Vl_Diaria: decimal(10,2) (nullable = true)\n |-- Vl_Diaria_Calc: decimal(10,2) (nullable = true)\n\nNone\n+---------+--------+---------+--------------+\n|nr_pedido|nr_placa|vl_diaria|vl_diaria_calc|\n+---------+--------+---------+--------------+\n|        1| AWW1956|  1934.00|          null|\n|        1| CCR4567|  3356.00|          null|\n|        1| CZR9988|   829.00|          null|\n|        1| DRV4395|   102.00|          null|\n|        1| DRV4397|   620.00|          null|\n|        1| DSE8990|  2458.00|          null|\n|        1| DVC4345|  1003.00|          null|\n|        1| FFG4433|  6046.00|          null|\n|        1| GHJ4511| 12370.00|          null|\n|        1| MNN2521|  1739.00|          null|\n|        1| OXO9002| 14000.00|          null|\n|        1| PLO1200|  4175.00|          null|\n|        1| POO3456|   249.00|          null|\n|        1| PQT3333| 11667.00|          null|\n|        2| BZT2255|   512.00|          null|\n|        2| CCC2400|  1397.00|          null|\n|        2| CCR4567|  3356.00|          null|\n|        2| CZR9988|   764.00|          null|\n|        2| DRV4395|   103.00|          null|\n|        2| DVC4345|  1004.00|          null|\n+---------+--------+---------+--------------+\nonly showing top 20 rows\n\nloc_modelo\nroot\n |-- cd_Modelo: integer (nullable = true)\n |-- Nm_Modelo: string (nullable = true)\n |-- cd_Fabricante: integer (nullable = true)\n\nNone\n+---------+----------------+-------------+\n|cd_modelo|       nm_modelo|cd_fabricante|\n+---------+----------------+-------------+\n|        1|          Vectra|            1|\n|        2|          Tempra|            2|\n|        3|           CORSA|            1|\n|        4|           Palio|            2|\n|        5|       Volvo S80|           17|\n|        6|       Brava    |            2|\n|        7|             Gol|            5|\n|        8|             Fit|            4|\n|        9|          Parati|            5|\n|       10|          Fiesta|            3|\n|       11|           Civic|            4|\n|       12|         Corolla|            3|\n|       13|             206|           15|\n|       14|           Focus|            3|\n|       15|           RAV4 |           13|\n|       16|           Marea|            2|\n|       17|         Audi A4|            7|\n|       18|         Audi A6|            7|\n|       19|            Golf|            5|\n|       20|Mercedes Class A|           18|\n+---------+----------------+-------------+\nonly showing top 20 rows\n\nloc_operadora\nroot\n |-- cd_Operadora: integer (nullable = true)\n |-- Nm_Operadora: string (nullable = true)\n\nNone\n+------------+------------+\n|cd_operadora|nm_operadora|\n+------------+------------+\n|           1|         TIM|\n|           2|        VIVO|\n|           3|       CLARO|\n|           4|  TELEFONICA|\n|           5|          OI|\n|           6|    EMBRATEL|\n+------------+------------+\n\nloc_pedido_locacao\nroot\n |-- Nr_Pedido: integer (nullable = true)\n |-- Dt_Locacao: date (nullable = true)\n |-- Cd_Cliente: integer (nullable = true)\n |-- Cd_Agencia: integer (nullable = true)\n |-- Qt_Dias: integer (nullable = true)\n |-- Vl_Total: decimal(10,2) (nullable = true)\n |-- Status: string (nullable = true)\n |-- Dt_Retirada: date (nullable = true)\n |-- Dt_Entrega: date (nullable = true)\n |-- Cd_Func: integer (nullable = true)\n |-- Dt_Pagto: date (nullable = true)\n |-- Cd_Age_Bco: integer (nullable = true)\n\nNone\n+---------+----------+----------+----------+-------+--------+------+-----------+----------+-------+----------+----------+\n|nr_pedido|dt_locacao|cd_cliente|cd_agencia|qt_dias|vl_total|status|dt_retirada|dt_entrega|cd_func|  dt_pagto|cd_age_bco|\n+---------+----------+----------+----------+-------+--------+------+-----------+----------+-------+----------+----------+\n|        1|2013-01-15|         1|         1|      1|  130.00|     D| 2013-01-15|2013-01-16|     10|2013-01-16|         1|\n|        2|2012-01-02|        32|         8|      1|  130.00|     D| 2012-01-02|2012-01-03|     10|2012-01-03|        66|\n|        3|2012-01-03|        32|         8|      5|  200.00|     D| 2012-01-03|2012-01-08|     15|2012-01-08|        66|\n|        4|2012-01-03|        32|         8|      5|  200.00|     D| 2012-01-03|2012-01-08|     10|2012-01-08|        66|\n|        5|2012-01-03|        32|         8|      5|  200.00|     D| 2012-01-03|2012-01-08|     10|2012-01-08|        66|\n|        6|2012-01-03|        50|        12|      5|  200.00|     D| 2012-01-06|2012-01-11|     10|2012-01-01|        66|\n|        7|2012-01-03|        32|         8|      5|  200.00|     D| 2012-01-03|2012-01-08|     10|2012-01-08|        66|\n|        8|2012-01-03|        32|         8|      5|  200.00|     D| 2012-01-03|2012-01-08|     11|2012-01-08|        66|\n|        9|2012-01-03|        32|         8|      5|  200.00|     D| 2012-01-03|2012-01-08|     11|      null|        66|\n|       10|2012-01-03|        32|         8|      5|  200.00|     D| 2012-01-03|2012-01-08|     11|2012-01-08|        66|\n|       11|2012-01-03|        32|         8|      5|  200.00|     D| 2012-01-03|2012-01-08|     10|2012-01-08|        66|\n|       12|2012-01-03|        32|         8|      5|  200.00|     D| 2012-01-03|2012-01-08|     10|2012-01-08|        67|\n|       13|2012-01-03|        32|         8|      5|  200.00|     D| 2012-01-03|2012-01-08|     10|2012-01-08|        67|\n|       14|2012-01-03|        32|         8|      5|  200.00|     D| 2012-01-03|2012-01-08|     10|2012-01-08|        67|\n|       15|2012-01-03|        11|         6|      5|  200.00|     D| 2012-01-03|2012-01-08|     10|2012-01-08|        23|\n|       16|2012-01-03|        33|         8|      5|  200.00|     D| 2012-01-03|2012-01-08|     10|2012-01-08|        67|\n|       17|2012-01-03|         2|        17|      5|  200.00|     D| 2012-01-03|2012-01-08|     10|2012-01-08|         5|\n|       18|2012-01-03|        15|        10|      5|  200.00|     D| 2012-01-03|2012-01-08|     10|2012-01-08|        30|\n|       19|2012-01-03|        15|        10|      5|  200.00|     D| 2012-01-03|2012-01-08|     10|2012-01-08|        30|\n|       20|2012-01-03|        33|         8|      5|  200.00|     D| 2012-01-03|2012-01-08|     10|2012-01-08|        67|\n+---------+----------+----------+----------+-------+--------+------+-----------+----------+-------+----------+----------+\nonly showing top 20 rows\n\nloc_proprietario\nroot\n |-- cd_proprietario: integer (nullable = true)\n |-- Nm_Proprietario: string (nullable = true)\n |-- Nr_CPF: integer (nullable = true)\n\nNone\n+---------------+--------------------+---------+\n|cd_proprietario|     nm_proprietario|   nr_cpf|\n+---------------+--------------------+---------+\n|              1|Adriana Lopes da ...|  5285425|\n|              2|        Celso Santos|  1487533|\n|              3|         Yuri Gagari|  2306984|\n|              4|Maria Linda Oliveira|  5385200|\n|              5|VeiVei Veiculos Ltda|  5825005|\n|              6|Tamara Rozet        |   176000|\n|              7|  Veic veiculos Ltda|  4437000|\n|              8|         ShowCar S/A|   352585|\n|              9|      InvestCar LTDA|     null|\n|             10|Ferdinando Fernandes|     null|\n|             11|      Audrey Hepburn|  9293903|\n|             12|      Marilyn Monroe|  9293984|\n|             13|         Ava Gardner|   929398|\n|             14|       Rita Hayworth|     null|\n|             15|    Caterine Deneuve|   929393|\n|             16|     Brigitte Bardot|769293903|\n|             17|       Lauren Bacall|  9888984|\n|             18|       Ginger Rogers|  7889398|\n|             19|      Carole Lombard|   677393|\n|             20|   Claudette Colbert|   966393|\n+---------------+--------------------+---------+\n\nloc_tp_automovel\nroot\n |-- cd_Tp_Automovel: integer (nullable = true)\n |-- Nm_Tp_Automovel: string (nullable = true)\n\nNone\n+---------------+---------------+\n|cd_tp_automovel|nm_tp_automovel|\n+---------------+---------------+\n|              1|          Sedan|\n|              2|      Hatchback|\n|              3|      Perua/Van|\n|              4|       Fastback|\n|              5|       Roadster|\n|              6|            Cup|\n|              7|            SUV|\n|              8|        Minivan|\n|              9|         Picape|\n+---------------+---------------+\n\nloc_tp_cliente\nroot\n |-- cd_Tp_Cliente: integer (nullable = true)\n |-- Nm_Tp_Cliente: string (nullable = true)\n\nNone\n+-------------+-------------+\n|cd_tp_cliente|nm_tp_cliente|\n+-------------+-------------+\n|            1|     PLATINUM|\n|            2|       GOLDEN|\n|            3|       SILVER|\n|            4|       BRONZE|\n|            5|        LATAO|\n+-------------+-------------+\n\nloc_tp_combustivel\nroot\n |-- cd_Tp_Combustivel: integer (nullable = true)\n |-- Nm_Tp_Combustivelcol: string (nullable = true)\n\nNone\n+-----------------+--------------------+\n|cd_tp_combustivel|nm_tp_combustivelcol|\n+-----------------+--------------------+\n|                1|            Gasolina|\n|                2|                   G|\n|                3|              Alcool|\n|                4|                Flex|\n+-----------------+--------------------+\n\nloc_veiculo\nroot\n |-- Nr_Placa: string (nullable = true)\n |-- Cd_Proprietario: integer (nullable = true)\n |-- Nr_Chassis: string (nullable = true)\n |-- Status: string (nullable = true)\n |-- Km_Atual: integer (nullable = true)\n |-- Tp_Automovel: integer (nullable = true)\n |-- Tp_Combustivel: integer (nullable = true)\n |-- cd_Modelo: integer (nullable = true)\n |-- cd_cor: integer (nullable = true)\n |-- cd_grupo: integer (nullable = true)\n |-- Vl_Diaria: decimal(12,2) (nullable = true)\n\nNone\n+--------+---------------+-----------------+------+--------+------------+--------------+---------+------+--------+---------+\n|nr_placa|cd_proprietario|       nr_chassis|status|km_atual|tp_automovel|tp_combustivel|cd_modelo|cd_cor|cd_grupo|vl_diaria|\n+--------+---------------+-----------------+------+--------+------------+--------------+---------+------+--------+---------+\n| AWW1956|              7|1V5BB67992G120345|     A|   19800|           3|             1|        9|     5|       1|   320.00|\n| BBF6544|              2|EFFRYGD345ERR1345|     A|   12389|           6|             1|       17|     6|       6|   920.00|\n| BZT2255|              2|1Z2WE34111V076321|     A|    2200|           2|             1|        2|     5|       0|   120.00|\n| CAC4270|              1|456MM6DD2FRD3445B|     A|   67234|           1|             1|       20|     3|       6|  1500.00|\n| CAL4345|              6|456MM6D32FRDG445J|     A|   11250|           1|             1|       30|     7|       6|  3000.00|\n| CAP4271|              5|456MM6DD2FRD3445B|     A|   15266|           1|             1|       29|     3|       6|  2700.00|\n| CAX4271|              5|456MM6DD2FRD3445B|     A|   67234|           1|             1|       28|     2|       6|  2500.00|\n| CCC2400|              5|6V5MM64552S123800|     A|   18300|           2|             2|        7|     1|       0|   100.00|\n| CCR4567|              5|9CFGD34501R099654|     A|    2000|           2|             2|       34|     2|       0|   140.00|\n| CZR9988|              1|9C2ND28001R099654|     A|    1100|           1|             1|        1|     4|       0|   135.00|\n| DRV4395|              3|4V5MM67992S123467|     A|    3300|           2|             1|        4|     3|       0|   110.00|\n| DRV4396|              3|4VBGM67992S123467|     A|    3300|           2|             2|        4|     2|       0|   110.00|\n| DRV4397|              3|4V5MJKKL92S123467|     A|    3300|           8|             3|        8|     3|       1|   450.00|\n| DSE8990|              6|0V5XX67992S120057|     A|   21340|           1|             3|       11|     3|       6|   500.00|\n| DVC4345|              4|4X5MF67992N134568|     A|    4600|           3|             2|        6|     2|       0|   135.00|\n| FFG4433|              5|EFFRYGD345ERR1267|     A|    8577|           2|             2|        6|     4|       1|   145.00|\n| GHJ4511|              7|9CFGD34501R099654|     A|    2000|           2|             1|       34|     1|       1|   300.00|\n| JGH1245|              7|1V5BB45692G120344|     A|    3456|           6|             1|       18|     7|       1|  1100.00|\n| JKR6655|              7|9CFGD34561R099654|     A|    5600|           2|             1|       34|     1|       1|   320.00|\n| JPP6612|              5|9CFGD34561R099654|     A|    5600|           2|             1|       34|     1|       1|   320.00|\n+--------+---------------+-----------------+------+--------+------------+--------------+---------+------+--------+---------+\nonly showing top 20 rows\n\n"
     ]
    }
   ],
   "source": [
    "from pyspark.sql.functions import col\n",
    "\n",
    "ingestion_strg = \"abfss://ingestion@trabalho06022003.dfs.core.windows.net/carloca/\" + str(now.year) + \"/\" + now.strftime('%m') + \"/\" + now.strftime('%d')\n",
    "\n",
    "tables = [\n",
    "    'loc_age_bco',\n",
    "    'loc_agencia','loc_banco','loc_cargo','loc_cidade','loc_cliente','loc_cor','loc_depto','loc_estado','loc_fabricante','loc_fone_cliente','loc_funcionario','loc_grupo','loc_item_locacao','loc_modelo','loc_operadora','loc_pedido_locacao','loc_proprietario','loc_tp_automovel','loc_tp_cliente','loc_tp_combustivel','loc_veiculo'\n",
    "]\n",
    "\n",
    "print(f\"TABLE COUNT: {len(tables)}\")\n",
    "\n",
    "for t in tables:\n",
    "    df = spark.read.format('mysql').\\\n",
    "        option(\"host\", \"HOST\").\\\n",
    "        option(\"port\", \"3306\").\\\n",
    "        option(\"database\", \"carloca\").\\\n",
    "        option(\"dbtable\", t).\\\n",
    "        option(\"user\", \"USER\").\\\n",
    "        option(\"password\", \"PASSWORD\").\\\n",
    "        load()\n",
    "    \n",
    "    print(t)\n",
    "    print(df.printSchema())\n",
    "\n",
    "    #  lower case column names for better joins\n",
    "    df = df.select([col(x).alias(x.lower()) for x in df.columns])\n",
    "    \n",
    "    df.show()\n",
    "    df.write.parquet(ingestion_strg + \"/\" + t + \".parquet\", mode=\"overwrite\")"
   ]
  },
  {
   "cell_type": "markdown",
   "metadata": {
    "application/vnd.databricks.v1+cell": {
     "cellMetadata": {
      "byteLimit": 2048000,
      "rowLimit": 10000
     },
     "inputWidgets": {},
     "nuid": "db8b270f-0e70-4be7-8225-85809d13c9b9",
     "showTitle": false,
     "tableResultSettingsMap": {},
     "title": ""
    }
   },
   "source": [
    "## Manager\n",
    "Agregação dos dados ingeridos e upload para a storage account"
   ]
  },
  {
   "cell_type": "code",
   "execution_count": 0,
   "metadata": {
    "application/vnd.databricks.v1+cell": {
     "cellMetadata": {
      "byteLimit": 2048000,
      "rowLimit": 10000
     },
     "inputWidgets": {},
     "nuid": "906cb893-0749-4ac3-a4ad-0eb78146f2fd",
     "showTitle": false,
     "tableResultSettingsMap": {},
     "title": ""
    }
   },
   "outputs": [],
   "source": [
    "ingestion_strg = \"abfss://ingestion@trabalho06022003.dfs.core.windows.net/carloca/\" + str(now.year) + \"/\" + now.strftime('%m') + \"/\" + now.strftime('%d')\n",
    "manager_strg = \"abfss://manager@trabalho06022003.dfs.core.windows.net/carloca/\" + str(now.year) + \"/\" + now.strftime('%m') + \"/\" + now.strftime('%d')\n",
    "\n",
    "manager = spark.read.parquet(ingestion_strg + '/loc_operadora.parquet')\n",
    "\n",
    "# jtable and join with which column\n",
    "joins = {\n",
    "    # cliente\n",
    "    'loc_fone_cliente': 'cd_operadora',\n",
    "    'loc_cliente': 'cd_cliente',\n",
    "    'loc_tp_cliente': 'cd_tp_cliente',\n",
    "    # cliente -> pedido\n",
    "    'loc_pedido_locacao': 'cd_cliente',\n",
    "    # pedido -> itens\n",
    "    'loc_item_locacao': 'nr_pedido',\n",
    "    # pedido -> loja\n",
    "    'loc_agencia': 'cd_agencia',\n",
    "    'loc_cidade': 'cd_cidade',\n",
    "    'loc_estado': 'cd_estado',\n",
    "    # item -> veículo\n",
    "    'loc_veiculo': 'nr_placa',\n",
    "    'loc_proprietario': 'cd_proprietario',\n",
    "    'loc_cor': 'cd_cor',\n",
    "    'loc_grupo': 'cd_grupo',\n",
    "    'loc_tp_automovel': 'cd_tp_automovel',\n",
    "    'loc_tp_combustivel': 'cd_tp_combustivel',\n",
    "    # veículo -> modelo\n",
    "    'loc_modelo': 'cd_modelo',\n",
    "    'loc_fabricante': 'cd_fabricante',\n",
    "    # pedido -> agencia de pagamento\n",
    "    'loc_age_bco': 'cd_age_bco',\n",
    "    'loc_banco': 'cd_banco',\n",
    "    # pedido -> funcionario\n",
    "    'loc_funcionario': 'cd_func',\n",
    "    'loc_cargo': 'cd_cargo',\n",
    "    'loc_depto': 'cd_depto',\n",
    "}\n",
    "\n",
    "# for each table and join column\n",
    "for t, c in joins.items():\n",
    "    # read the table data\n",
    "    df = spark.read.parquet(ingestion_strg + '/' + t + '.parquet')\n",
    "\n",
    "    # make adjusments to the dataframe if needed\n",
    "    if t == 'loc_pedido_locacao':\n",
    "        df = df.withColumnRenamed('status', 'pedido_status')\n",
    "    elif t == 'loc_item_locacao':\n",
    "        df = df.withColumnRenamed('vl_diaria', 'item_pedido_vl_diaria')\n",
    "        df = df.withColumnRenamed('vl_diaria_calc', 'item_pedido_vl_diaria_calc')\n",
    "    elif t == 'loc_veiculo':\n",
    "        df = df.withColumnRenamed('status', 'veiculo_status')\n",
    "        df = df.withColumnRenamed('vl_diaria', 'veiculo_vl_diaria')\n",
    "        df = df.withColumnRenamed('tp_automovel', 'cd_tp_automovel')\n",
    "        df = df.withColumnRenamed('tp_combustivel', 'cd_tp_combustivel')\n",
    "    elif t == 'loc_age_bco':\n",
    "        df = df.withColumnRenamed('cd_agencia', 'cd_age_bco')\n",
    "        df = df.withColumnRenamed('nm_agencia', 'nm_age_bco')\n",
    "    elif t == 'loc_proprietario':\n",
    "        df = df.withColumnRenamed('nr_cpf', 'nr_cpf_proprietario')\n",
    "    elif t == 'loc_funcionario':\n",
    "        df = df.withColumnRenamed('nr_cpf', 'nr_cpf_funcionario')\n",
    "    \n",
    "    # do equivalent join with other table\n",
    "    manager = manager.join(df, on=c)"
   ]
  },
  {
   "cell_type": "code",
   "execution_count": 0,
   "metadata": {
    "application/vnd.databricks.v1+cell": {
     "cellMetadata": {
      "byteLimit": 2048000,
      "rowLimit": 10000
     },
     "inputWidgets": {},
     "nuid": "3b69e75a-6bda-443a-b415-4e14dc2b8206",
     "showTitle": false,
     "tableResultSettingsMap": {},
     "title": ""
    }
   },
   "outputs": [],
   "source": [
    "# append manager table\n",
    "loc_funcionario = spark.read.parquet(ingestion_strg + '/loc_funcionario.parquet')\n",
    "loc_cargo = spark.read.parquet(ingestion_strg + '/loc_cargo.parquet')\n",
    "# loc_depto = spark.read.parquet(ingestion_strg + '/loc_depto.parquet')\n",
    "\n",
    "# loc_gerente = loc_funcionario.withColumnRenamed('cd_gerente', 'cd_gerente_gerente')\\\n",
    "#     .withColumnRenamed('cd_func', 'cd_gerente')\\\n",
    "#     .withColumnRenamed('nm_func', 'nm_gerente')\\\n",
    "#     .withColumnRenamed('dt_inicio', 'dt_inicio_gerente')\\\n",
    "#     .withColumnRenamed('nr_cpf', 'nr_cpf_gerente')\\\n",
    "#     .withColumnRenamed('vl_salario', 'vl_salario_gerente')\\\n",
    "#     .withColumnRenamed('vl_perc_comissao', 'vl_perc_comissao_gerente')\\\n",
    "#     .join(loc_depto, on='cd_depto')\\\n",
    "#     .withColumnRenamed('nm_depto', 'nm_depto_gerente')\\\n",
    "#     .withColumnRenamed('cd_depto', 'cd_depto_gerente')\\\n",
    "#     .withColumnRenamed('vl_orc_depto', 'vl_orc_depto_gerente')\\\n",
    "#     .join(loc_cargo, on='cd_cargo')\\\n",
    "#     .withColumnRenamed('nm_cargo', 'nm_cargo_gerente')\\\n",
    "#     .withColumnRenamed('cd_cargo', 'cd_cargo_gerente')\n",
    "\n",
    "# manager = manager.join(loc_gerente, 'cd_gerente', 'inner')"
   ]
  },
  {
   "cell_type": "code",
   "execution_count": 0,
   "metadata": {
    "application/vnd.databricks.v1+cell": {
     "cellMetadata": {
      "byteLimit": 2048000,
      "rowLimit": 10000
     },
     "inputWidgets": {},
     "nuid": "6b65ab50-8d8d-4888-926b-8c6f72cacd21",
     "showTitle": false,
     "tableResultSettingsMap": {},
     "title": ""
    }
   },
   "outputs": [
    {
     "output_type": "stream",
     "name": "stdout",
     "output_type": "stream",
     "text": [
      "root\n |-- cd_depto: integer (nullable = true)\n |-- cd_cargo: integer (nullable = true)\n |-- cd_func: integer (nullable = true)\n |-- cd_banco: integer (nullable = true)\n |-- cd_age_bco: integer (nullable = true)\n |-- cd_fabricante: integer (nullable = true)\n |-- cd_modelo: integer (nullable = true)\n |-- cd_tp_combustivel: integer (nullable = true)\n |-- cd_tp_automovel: integer (nullable = true)\n |-- cd_grupo: integer (nullable = true)\n |-- cd_cor: integer (nullable = true)\n |-- cd_proprietario: integer (nullable = true)\n |-- nr_placa: string (nullable = true)\n |-- cd_estado: integer (nullable = true)\n |-- cd_cidade: integer (nullable = true)\n |-- cd_agencia: integer (nullable = true)\n |-- nr_pedido: integer (nullable = true)\n |-- cd_cliente: integer (nullable = true)\n |-- cd_tp_cliente: integer (nullable = true)\n |-- cd_operadora: integer (nullable = true)\n |-- nm_operadora: string (nullable = true)\n |-- cd_fone_cliente: integer (nullable = true)\n |-- nm_fone_cliente: string (nullable = true)\n |-- nm_cliente: string (nullable = true)\n |-- nr_estrelas: integer (nullable = true)\n |-- nr_habilitacao: integer (nullable = true)\n |-- nm_tp_cliente: string (nullable = true)\n |-- dt_locacao: date (nullable = true)\n |-- qt_dias: integer (nullable = true)\n |-- vl_total: decimal(10,2) (nullable = true)\n |-- pedido_status: string (nullable = true)\n |-- dt_retirada: date (nullable = true)\n |-- dt_entrega: date (nullable = true)\n |-- dt_pagto: date (nullable = true)\n |-- item_pedido_vl_diaria: decimal(10,2) (nullable = true)\n |-- item_pedido_vl_diaria_calc: decimal(10,2) (nullable = true)\n |-- nm_agencia: string (nullable = true)\n |-- nm_cidade: string (nullable = true)\n |-- nm_estado: string (nullable = true)\n |-- sigla_estado: string (nullable = true)\n |-- nr_chassis: string (nullable = true)\n |-- veiculo_status: string (nullable = true)\n |-- km_atual: integer (nullable = true)\n |-- veiculo_vl_diaria: decimal(12,2) (nullable = true)\n |-- nm_proprietario: string (nullable = true)\n |-- nr_cpf_proprietario: integer (nullable = true)\n |-- desc_cor: string (nullable = true)\n |-- nm_grupo: string (nullable = true)\n |-- nm_tp_automovel: string (nullable = true)\n |-- nm_tp_combustivelcol: string (nullable = true)\n |-- nm_modelo: string (nullable = true)\n |-- nm_fabricante: string (nullable = true)\n |-- nm_age_bco: string (nullable = true)\n |-- nm_banco: string (nullable = true)\n |-- url: string (nullable = true)\n |-- nm_func: string (nullable = true)\n |-- dt_inicio: date (nullable = true)\n |-- cd_gerente: integer (nullable = true)\n |-- nr_cpf_funcionario: integer (nullable = true)\n |-- vl_salario: decimal(11,2) (nullable = true)\n |-- vl_perc_comissao: decimal(5,2) (nullable = true)\n |-- nm_cargo: string (nullable = true)\n |-- nm_depto: string (nullable = true)\n |-- vl_orc_depto: decimal(10,2) (nullable = true)\n\n"
     ]
    }
   ],
   "source": [
    "manager.printSchema()\n",
    "\n",
    "manager.write.parquet(manager_strg + \"/manager.parquet\", mode=\"overwrite\")"
   ]
  },
  {
   "cell_type": "markdown",
   "metadata": {
    "application/vnd.databricks.v1+cell": {
     "cellMetadata": {
      "byteLimit": 2048000,
      "rowLimit": 10000
     },
     "inputWidgets": {},
     "nuid": "e060e242-7047-4fd7-979e-120825f2149f",
     "showTitle": false,
     "tableResultSettingsMap": {},
     "title": ""
    }
   },
   "source": [
    "## Query\n",
    "Disponiblização dos dados para consulta"
   ]
  },
  {
   "cell_type": "code",
   "execution_count": 0,
   "metadata": {
    "application/vnd.databricks.v1+cell": {
     "cellMetadata": {
      "byteLimit": 2048000,
      "rowLimit": 10000
     },
     "inputWidgets": {},
     "nuid": "058449b9-22f9-447f-a4ef-fa672077bed0",
     "showTitle": false,
     "tableResultSettingsMap": {},
     "title": ""
    }
   },
   "outputs": [],
   "source": [
    "manager_strg = \"abfss://manager@trabalho06022003.dfs.core.windows.net/carloca/\" + str(now.year) + \"/\" + now.strftime('%m') + \"/\" + now.strftime('%d')\n",
    "\n",
    "manager = spark.read.parquet(manager_strg + '/manager.parquet')"
   ]
  },
  {
   "cell_type": "code",
   "execution_count": 0,
   "metadata": {
    "application/vnd.databricks.v1+cell": {
     "cellMetadata": {
      "byteLimit": 2048000,
      "rowLimit": 10000
     },
     "inputWidgets": {},
     "nuid": "0a7d0023-e105-422a-9629-c356fdff3d56",
     "showTitle": false,
     "tableResultSettingsMap": {},
     "title": ""
    }
   },
   "outputs": [
    {
     "output_type": "stream",
     "name": "stdout",
     "output_type": "stream",
     "text": [
      "STAR SCHEMA PEDIDO\n+----------+--------------------+-------------+-------------+--------------+-----------+---------------+---------------+------------+------------+--------------------+--------+-----------------+--------+----------+----------+---------+---------+---------+---------+----------+-------+--------------+----------+----------+------------------+----------+----------------+--------+--------+----------+-----------+--------+---------------------+--------------------------+-----------------+--------+----+---+---+----------+\n|cd_cliente|          nm_cliente|cd_tp_cliente|nm_tp_cliente|nr_habilitacao|nr_estrelas|cd_fone_cliente|nm_fone_cliente|cd_operadora|nm_operadora|           nm_modelo|nr_placa|       nr_chassis|km_atual|cd_agencia|nm_agencia|cd_cidade|nm_cidade|cd_estado|nm_estado|dt_locacao|cd_func|       nm_func| dt_inicio|cd_gerente|nr_cpf_funcionario|vl_salario|vl_perc_comissao|cd_depto|cd_cargo|dt_entrega|dt_retirada|vl_total|item_pedido_vl_diaria|item_pedido_vl_diaria_calc|veiculo_vl_diaria|km_atual| ano|mes|dia|dia_semana|\n+----------+--------------------+-------------+-------------+--------------+-----------+---------------+---------------+------------+------------+--------------------+--------+-----------------+--------+----------+----------+---------+---------+---------+---------+----------+-------+--------------+----------+----------+------------------+----------+----------------+--------+--------+----------+-----------+--------+---------------------+--------------------------+-----------------+--------+----+---+---+----------+\n|         1|ANA RAQUEL FERNANDES|            1|     PLATINUM|            92|          5|              1| 11 974 324 111|           1|         TIM|                 206| XDF5600|5V66X67992S156769|   11340|        16| COQUEIROS|       13| SOROCABA|        3|S?o Paulo|2012-03-09|     10|Diogo Sanguino|2013-03-13|         3|              null|   2145.74|            3.00|      10|       6|2012-03-12| 2012-03-09|  250.00|              2996.00|                      null|          2950.00|   11340|2012|  3|  9|         6|\n|         1|ANA RAQUEL FERNANDES|            1|     PLATINUM|            92|          5|              1| 11 974 324 111|           1|         TIM|           Brava    | TTT4348|EFFRYGD345ERR1267|    3545|        16| COQUEIROS|       13| SOROCABA|        3|S?o Paulo|2012-03-09|     10|Diogo Sanguino|2013-03-13|         3|              null|   2145.74|            3.00|      10|       6|2012-03-12| 2012-03-09|  250.00|              5667.00|                      null|           420.00|    3545|2012|  3|  9|         6|\n|         1|ANA RAQUEL FERNANDES|            1|     PLATINUM|            92|          5|              1| 11 974 324 111|           1|         TIM|      Mercedes 300 E| SXE2343|4V5MM67992FRD3467|    2345|        16| COQUEIROS|       13| SOROCABA|        3|S?o Paulo|2012-03-09|     10|Diogo Sanguino|2013-03-13|         3|              null|   2145.74|            3.00|      10|       6|2012-03-12| 2012-03-09|  250.00|              8006.00|                      null|          2100.00|    2345|2012|  3|  9|         6|\n|         1|ANA RAQUEL FERNANDES|            1|     PLATINUM|            92|          5|              1| 11 974 324 111|           1|         TIM|JAGUAR S-TYPE 3.0 V6| SSE2343|4V5MM67992FRD3467|    2345|        16| COQUEIROS|       13| SOROCABA|        3|S?o Paulo|2012-03-09|     10|Diogo Sanguino|2013-03-13|         3|              null|   2145.74|            3.00|      10|       6|2012-03-12| 2012-03-09|  250.00|             10015.00|                      null|          2400.00|    2345|2012|  3|  9|         6|\n|         1|ANA RAQUEL FERNANDES|            1|     PLATINUM|            92|          5|              1| 11 974 324 111|           1|         TIM|BMW 318iA COMPACT...| QQQ3344|456MM6DD2FRD3445P|   34234|        16| COQUEIROS|       13| SOROCABA|        3|S?o Paulo|2012-03-09|     10|Diogo Sanguino|2013-03-13|         3|              null|   2145.74|            3.00|      10|       6|2012-03-12| 2012-03-09|  250.00|             11966.00|                      null|          1700.00|   34234|2012|  3|  9|         6|\n|         1|ANA RAQUEL FERNANDES|            1|     PLATINUM|            92|          5|              1| 11 974 324 111|           1|         TIM|               CORSA| POO3456|1Z2WE34111V076321|    2200|        16| COQUEIROS|       13| SOROCABA|        3|S?o Paulo|2012-03-09|     10|Diogo Sanguino|2013-03-13|         3|              null|   2145.74|            3.00|      10|       6|2012-03-12| 2012-03-09|  250.00|               326.00|                      null|           105.00|    2200|2012|  3|  9|         6|\n|         1|ANA RAQUEL FERNANDES|            1|     PLATINUM|            92|          5|              1| 11 974 324 111|           1|         TIM|               Focus| PLV1200|FGTRYGD345ERR5768|    6545|        16| COQUEIROS|       13| SOROCABA|        3|S?o Paulo|2012-03-09|     10|Diogo Sanguino|2013-03-13|         3|              null|   2145.74|            3.00|      10|       6|2012-03-12| 2012-03-09|  250.00|              4666.00|                      null|           132.00|    6545|2012|  3|  9|         6|\n|         1|ANA RAQUEL FERNANDES|            1|     PLATINUM|            92|          5|              1| 11 974 324 111|           1|         TIM|               CORSA| OXO9002|1V5BB45692G120345|   18456|        16| COQUEIROS|       13| SOROCABA|        3|S?o Paulo|2012-03-09|     10|Diogo Sanguino|2013-03-13|         3|              null|   2145.74|            3.00|      10|       6|2012-03-12| 2012-03-09|  250.00|             14000.00|                      null|           105.00|   18456|2012|  3|  9|         6|\n|         1|ANA RAQUEL FERNANDES|            1|     PLATINUM|            92|          5|              1| 11 974 324 111|           1|         TIM|                 Fit| NMH5558|XCDFGD34501R09954|    1200|        16| COQUEIROS|       13| SOROCABA|        3|S?o Paulo|2012-03-09|     10|Diogo Sanguino|2013-03-13|         3|              null|   2145.74|            3.00|      10|       6|2012-03-12| 2012-03-09|  250.00|              3556.00|                      null|           600.00|    1200|2012|  3|  9|         6|\n|         1|ANA RAQUEL FERNANDES|            1|     PLATINUM|            92|          5|              1| 11 974 324 111|           1|         TIM|           Brava    | DVC4345|4X5MF67992N134568|    4600|        16| COQUEIROS|       13| SOROCABA|        3|S?o Paulo|2012-03-09|     10|Diogo Sanguino|2013-03-13|         3|              null|   2145.74|            3.00|      10|       6|2012-03-12| 2012-03-09|  250.00|               994.00|                      null|           135.00|    4600|2012|  3|  9|         6|\n|         1|ANA RAQUEL FERNANDES|            1|     PLATINUM|            92|          5|              1| 11 974 324 111|           1|         TIM|               Palio| DRV4395|4V5MM67992S123467|    3300|        16| COQUEIROS|       13| SOROCABA|        3|S?o Paulo|2012-03-09|     10|Diogo Sanguino|2013-03-13|         3|              null|   2145.74|            3.00|      10|       6|2012-03-12| 2012-03-09|  250.00|               146.00|                      null|           110.00|    3300|2012|  3|  9|         6|\n|         1|ANA RAQUEL FERNANDES|            1|     PLATINUM|            92|          5|              1| 11 974 324 111|           1|         TIM|              Vectra| CZR9988|9C2ND28001R099654|    1100|        16| COQUEIROS|       13| SOROCABA|        3|S?o Paulo|2012-03-09|     10|Diogo Sanguino|2013-03-13|         3|              null|   2145.74|            3.00|      10|       6|2012-03-12| 2012-03-09|  250.00|               931.00|                      null|           135.00|    1100|2012|  3|  9|         6|\n|         1|ANA RAQUEL FERNANDES|            1|     PLATINUM|            92|          5|              1| 11 974 324 111|           1|         TIM|               SIENA| CCR4567|9CFGD34501R099654|    2000|        16| COQUEIROS|       13| SOROCABA|        3|S?o Paulo|2012-03-09|     10|Diogo Sanguino|2013-03-13|         3|              null|   2145.74|            3.00|      10|       6|2012-03-12| 2012-03-09|  250.00|              3134.00|                      null|           140.00|    2000|2012|  3|  9|         6|\n|         1|ANA RAQUEL FERNANDES|            1|     PLATINUM|            92|          5|              1| 11 974 324 111|           1|         TIM|              Parati| AWW1956|1V5BB67992G120345|   19800|        16| COQUEIROS|       13| SOROCABA|        3|S?o Paulo|2012-03-09|     10|Diogo Sanguino|2013-03-13|         3|              null|   2145.74|            3.00|      10|       6|2012-03-12| 2012-03-09|  250.00|              1863.00|                      null|           320.00|   19800|2012|  3|  9|         6|\n|         1|ANA RAQUEL FERNANDES|            1|     PLATINUM|            92|          5|              1| 11 974 324 111|           1|         TIM|           Brava    | ZXD9001|PORTYGD345BNFG342|   21545|        16| COQUEIROS|       13| SOROCABA|        3|S?o Paulo|2012-04-16|     10|Diogo Sanguino|2013-03-13|         3|              null|   2145.74|            3.00|      10|       6|2012-04-20| 2012-04-16|  260.00|              6267.00|                      null|           500.00|   21545|2012|  4| 16|         2|\n|         1|ANA RAQUEL FERNANDES|            1|     PLATINUM|            92|          5|              1| 11 974 324 111|           1|         TIM|                 206| XDF5600|5V66X67992S156769|   11340|        16| COQUEIROS|       13| SOROCABA|        3|S?o Paulo|2012-04-16|     10|Diogo Sanguino|2013-03-13|         3|              null|   2145.74|            3.00|      10|       6|2012-04-20| 2012-04-16|  260.00|              2875.00|                      null|          2950.00|   11340|2012|  4| 16|         2|\n|         1|ANA RAQUEL FERNANDES|            1|     PLATINUM|            92|          5|              1| 11 974 324 111|           1|         TIM|      Mercedes 300 E| SXE2343|4V5MM67992FRD3467|    2345|        16| COQUEIROS|       13| SOROCABA|        3|S?o Paulo|2012-04-16|     10|Diogo Sanguino|2013-03-13|         3|              null|   2145.74|            3.00|      10|       6|2012-04-20| 2012-04-16|  260.00|              7897.00|                      null|          2100.00|    2345|2012|  4| 16|         2|\n|         1|ANA RAQUEL FERNANDES|            1|     PLATINUM|            92|          5|              1| 11 974 324 111|           1|         TIM|JAGUAR S-TYPE 3.0 V6| SSE2343|4V5MM67992FRD3467|    2345|        16| COQUEIROS|       13| SOROCABA|        3|S?o Paulo|2012-04-16|     10|Diogo Sanguino|2013-03-13|         3|              null|   2145.74|            3.00|      10|       6|2012-04-20| 2012-04-16|  260.00|             10110.00|                      null|          2400.00|    2345|2012|  4| 16|         2|\n|         1|ANA RAQUEL FERNANDES|            1|     PLATINUM|            92|          5|              1| 11 974 324 111|           1|         TIM|               CORSA| POO3456|1Z2WE34111V076321|    2200|        16| COQUEIROS|       13| SOROCABA|        3|S?o Paulo|2012-04-16|     10|Diogo Sanguino|2013-03-13|         3|              null|   2145.74|            3.00|      10|       6|2012-04-20| 2012-04-16|  260.00|               326.00|                      null|           105.00|    2200|2012|  4| 16|         2|\n|         1|ANA RAQUEL FERNANDES|            1|     PLATINUM|            92|          5|              1| 11 974 324 111|           1|         TIM|               CORSA| OXO9002|1V5BB45692G120345|   18456|        16| COQUEIROS|       13| SOROCABA|        3|S?o Paulo|2012-04-16|     10|Diogo Sanguino|2013-03-13|         3|              null|   2145.74|            3.00|      10|       6|2012-04-20| 2012-04-16|  260.00|             14000.00|                      null|           105.00|   18456|2012|  4| 16|         2|\n+----------+--------------------+-------------+-------------+--------------+-----------+---------------+---------------+------------+------------+--------------------+--------+-----------------+--------+----------+----------+---------+---------+---------+---------+----------+-------+--------------+----------+----------+------------------+----------+----------------+--------+--------+----------+-----------+--------+---------------------+--------------------------+-----------------+--------+----+---+---+----------+\nonly showing top 20 rows\n\nSTAR SCHEMA PRODUTO\n+--------------------+--------+-----------------+--------+--------------------+----------+----------+---------+---------+---------+---------+-------------+---------------+----------+----+---+---+----------+\n|           nm_modelo|nr_placa|       nr_chassis|km_atual|     nm_proprietario|cd_agencia|nm_agencia|cd_cidade|nm_cidade|cd_estado|nm_estado|nm_fabricante|nm_tp_automovel|dt_locacao| ano|mes|dia|dia_semana|\n+--------------------+--------+-----------------+--------+--------------------+----------+----------+---------+---------+---------+---------+-------------+---------------+----------+----+---+---+----------+\n|                 206| XDF5600|5V66X67992S156769|   11340|         Yuri Gagari|        16| COQUEIROS|       13| SOROCABA|        3|S?o Paulo|      Peugeot|      Hatchback|2012-03-09|2012|  3|  9|         6|\n|           Brava    | TTT4348|EFFRYGD345ERR1267|    3545|VeiVei Veiculos Ltda|        16| COQUEIROS|       13| SOROCABA|        3|S?o Paulo|         Fiat|      Hatchback|2012-03-09|2012|  3|  9|         6|\n|      Mercedes 300 E| SXE2343|4V5MM67992FRD3467|    2345|Maria Linda Oliveira|        16| COQUEIROS|       13| SOROCABA|        3|S?o Paulo|     Mercedes|          Sedan|2012-03-09|2012|  3|  9|         6|\n|JAGUAR S-TYPE 3.0 V6| SSE2343|4V5MM67992FRD3467|    2345|VeiVei Veiculos Ltda|        16| COQUEIROS|       13| SOROCABA|        3|S?o Paulo|       Jaguar|          Sedan|2012-03-09|2012|  3|  9|         6|\n|BMW 318iA COMPACT...| QQQ3344|456MM6DD2FRD3445P|   34234|  Veic veiculos Ltda|        16| COQUEIROS|       13| SOROCABA|        3|S?o Paulo|          BMW|          Sedan|2012-03-09|2012|  3|  9|         6|\n|               CORSA| POO3456|1Z2WE34111V076321|    2200|        Celso Santos|        16| COQUEIROS|       13| SOROCABA|        3|S?o Paulo|    Chevrolet|          Sedan|2012-03-09|2012|  3|  9|         6|\n|               Focus| PLV1200|FGTRYGD345ERR5768|    6545|        Celso Santos|        16| COQUEIROS|       13| SOROCABA|        3|S?o Paulo|         Ford|      Hatchback|2012-03-09|2012|  3|  9|         6|\n|               CORSA| OXO9002|1V5BB45692G120345|   18456|Adriana Lopes da ...|        16| COQUEIROS|       13| SOROCABA|        3|S?o Paulo|    Chevrolet|      Hatchback|2012-03-09|2012|  3|  9|         6|\n|                 Fit| NMH5558|XCDFGD34501R09954|    1200|Tamara Rozet        |        16| COQUEIROS|       13| SOROCABA|        3|S?o Paulo|        Honda|       Roadster|2012-03-09|2012|  3|  9|         6|\n|           Brava    | DVC4345|4X5MF67992N134568|    4600|Maria Linda Oliveira|        16| COQUEIROS|       13| SOROCABA|        3|S?o Paulo|         Fiat|      Perua/Van|2012-03-09|2012|  3|  9|         6|\n|               Palio| DRV4395|4V5MM67992S123467|    3300|         Yuri Gagari|        16| COQUEIROS|       13| SOROCABA|        3|S?o Paulo|         Fiat|      Hatchback|2012-03-09|2012|  3|  9|         6|\n|              Vectra| CZR9988|9C2ND28001R099654|    1100|Adriana Lopes da ...|        16| COQUEIROS|       13| SOROCABA|        3|S?o Paulo|    Chevrolet|          Sedan|2012-03-09|2012|  3|  9|         6|\n|               SIENA| CCR4567|9CFGD34501R099654|    2000|VeiVei Veiculos Ltda|        16| COQUEIROS|       13| SOROCABA|        3|S?o Paulo|         Fiat|      Hatchback|2012-03-09|2012|  3|  9|         6|\n|              Parati| AWW1956|1V5BB67992G120345|   19800|  Veic veiculos Ltda|        16| COQUEIROS|       13| SOROCABA|        3|S?o Paulo|   Vollswagen|      Perua/Van|2012-03-09|2012|  3|  9|         6|\n|           Brava    | ZXD9001|PORTYGD345BNFG342|   21545|VeiVei Veiculos Ltda|        16| COQUEIROS|       13| SOROCABA|        3|S?o Paulo|         Fiat|      Hatchback|2012-04-16|2012|  4| 16|         2|\n|                 206| XDF5600|5V66X67992S156769|   11340|         Yuri Gagari|        16| COQUEIROS|       13| SOROCABA|        3|S?o Paulo|      Peugeot|      Hatchback|2012-04-16|2012|  4| 16|         2|\n|      Mercedes 300 E| SXE2343|4V5MM67992FRD3467|    2345|Maria Linda Oliveira|        16| COQUEIROS|       13| SOROCABA|        3|S?o Paulo|     Mercedes|          Sedan|2012-04-16|2012|  4| 16|         2|\n|JAGUAR S-TYPE 3.0 V6| SSE2343|4V5MM67992FRD3467|    2345|VeiVei Veiculos Ltda|        16| COQUEIROS|       13| SOROCABA|        3|S?o Paulo|       Jaguar|          Sedan|2012-04-16|2012|  4| 16|         2|\n|               CORSA| POO3456|1Z2WE34111V076321|    2200|        Celso Santos|        16| COQUEIROS|       13| SOROCABA|        3|S?o Paulo|    Chevrolet|          Sedan|2012-04-16|2012|  4| 16|         2|\n|               CORSA| OXO9002|1V5BB45692G120345|   18456|Adriana Lopes da ...|        16| COQUEIROS|       13| SOROCABA|        3|S?o Paulo|    Chevrolet|      Hatchback|2012-04-16|2012|  4| 16|         2|\n+--------------------+--------+-----------------+--------+--------------------+----------+----------+---------+---------+---------+---------+-------------+---------------+----------+----+---+---+----------+\nonly showing top 20 rows\n\nSTAR SCHEMA LOJAS\n+--------------------+------------------+-------+--------------+----------+----------+------------------+----------+----------------+--------+--------+----------+----------+---------+---------+---------+---------+----------+----+---+---+----------+\n|            nm_banco|        nm_age_bco|cd_func|       nm_func| dt_inicio|cd_gerente|nr_cpf_funcionario|vl_salario|vl_perc_comissao|cd_depto|cd_cargo|cd_agencia|nm_agencia|cd_cidade|nm_cidade|cd_estado|nm_estado|dt_locacao| ano|mes|dia|dia_semana|\n+--------------------+------------------+-------+--------------+----------+----------+------------------+----------+----------------+--------+--------+----------+----------+---------+---------+---------+---------+----------+----+---+---+----------+\n|Banco Rural Mais ...|RUA JOSE BONIFACIO|     10|Diogo Sanguino|2013-03-13|         3|              null|   2145.74|            3.00|      10|       6|        16| COQUEIROS|       13| SOROCABA|        3|S?o Paulo|2012-03-09|2012|  3|  9|         6|\n|Banco Rural Mais ...|RUA JOSE BONIFACIO|     10|Diogo Sanguino|2013-03-13|         3|              null|   2145.74|            3.00|      10|       6|        16| COQUEIROS|       13| SOROCABA|        3|S?o Paulo|2012-03-09|2012|  3|  9|         6|\n|Banco Rural Mais ...|RUA JOSE BONIFACIO|     10|Diogo Sanguino|2013-03-13|         3|              null|   2145.74|            3.00|      10|       6|        16| COQUEIROS|       13| SOROCABA|        3|S?o Paulo|2012-03-09|2012|  3|  9|         6|\n|Banco Rural Mais ...|RUA JOSE BONIFACIO|     10|Diogo Sanguino|2013-03-13|         3|              null|   2145.74|            3.00|      10|       6|        16| COQUEIROS|       13| SOROCABA|        3|S?o Paulo|2012-03-09|2012|  3|  9|         6|\n|Banco Rural Mais ...|RUA JOSE BONIFACIO|     10|Diogo Sanguino|2013-03-13|         3|              null|   2145.74|            3.00|      10|       6|        16| COQUEIROS|       13| SOROCABA|        3|S?o Paulo|2012-03-09|2012|  3|  9|         6|\n|Banco Rural Mais ...|RUA JOSE BONIFACIO|     10|Diogo Sanguino|2013-03-13|         3|              null|   2145.74|            3.00|      10|       6|        16| COQUEIROS|       13| SOROCABA|        3|S?o Paulo|2012-03-09|2012|  3|  9|         6|\n|Banco Rural Mais ...|RUA JOSE BONIFACIO|     10|Diogo Sanguino|2013-03-13|         3|              null|   2145.74|            3.00|      10|       6|        16| COQUEIROS|       13| SOROCABA|        3|S?o Paulo|2012-03-09|2012|  3|  9|         6|\n|Banco Rural Mais ...|RUA JOSE BONIFACIO|     10|Diogo Sanguino|2013-03-13|         3|              null|   2145.74|            3.00|      10|       6|        16| COQUEIROS|       13| SOROCABA|        3|S?o Paulo|2012-03-09|2012|  3|  9|         6|\n|Banco Rural Mais ...|RUA JOSE BONIFACIO|     10|Diogo Sanguino|2013-03-13|         3|              null|   2145.74|            3.00|      10|       6|        16| COQUEIROS|       13| SOROCABA|        3|S?o Paulo|2012-03-09|2012|  3|  9|         6|\n|Banco Rural Mais ...|RUA JOSE BONIFACIO|     10|Diogo Sanguino|2013-03-13|         3|              null|   2145.74|            3.00|      10|       6|        16| COQUEIROS|       13| SOROCABA|        3|S?o Paulo|2012-03-09|2012|  3|  9|         6|\n|Banco Rural Mais ...|RUA JOSE BONIFACIO|     10|Diogo Sanguino|2013-03-13|         3|              null|   2145.74|            3.00|      10|       6|        16| COQUEIROS|       13| SOROCABA|        3|S?o Paulo|2012-03-09|2012|  3|  9|         6|\n|Banco Rural Mais ...|RUA JOSE BONIFACIO|     10|Diogo Sanguino|2013-03-13|         3|              null|   2145.74|            3.00|      10|       6|        16| COQUEIROS|       13| SOROCABA|        3|S?o Paulo|2012-03-09|2012|  3|  9|         6|\n|Banco Rural Mais ...|RUA JOSE BONIFACIO|     10|Diogo Sanguino|2013-03-13|         3|              null|   2145.74|            3.00|      10|       6|        16| COQUEIROS|       13| SOROCABA|        3|S?o Paulo|2012-03-09|2012|  3|  9|         6|\n|Banco Rural Mais ...|RUA JOSE BONIFACIO|     10|Diogo Sanguino|2013-03-13|         3|              null|   2145.74|            3.00|      10|       6|        16| COQUEIROS|       13| SOROCABA|        3|S?o Paulo|2012-03-09|2012|  3|  9|         6|\n| Banco Alvorada S.A.|     RUA BOA VISTA|     10|Diogo Sanguino|2013-03-13|         3|              null|   2145.74|            3.00|      10|       6|        16| COQUEIROS|       13| SOROCABA|        3|S?o Paulo|2012-04-16|2012|  4| 16|         2|\n| Banco Alvorada S.A.|     RUA BOA VISTA|     10|Diogo Sanguino|2013-03-13|         3|              null|   2145.74|            3.00|      10|       6|        16| COQUEIROS|       13| SOROCABA|        3|S?o Paulo|2012-04-16|2012|  4| 16|         2|\n| Banco Alvorada S.A.|     RUA BOA VISTA|     10|Diogo Sanguino|2013-03-13|         3|              null|   2145.74|            3.00|      10|       6|        16| COQUEIROS|       13| SOROCABA|        3|S?o Paulo|2012-04-16|2012|  4| 16|         2|\n| Banco Alvorada S.A.|     RUA BOA VISTA|     10|Diogo Sanguino|2013-03-13|         3|              null|   2145.74|            3.00|      10|       6|        16| COQUEIROS|       13| SOROCABA|        3|S?o Paulo|2012-04-16|2012|  4| 16|         2|\n| Banco Alvorada S.A.|     RUA BOA VISTA|     10|Diogo Sanguino|2013-03-13|         3|              null|   2145.74|            3.00|      10|       6|        16| COQUEIROS|       13| SOROCABA|        3|S?o Paulo|2012-04-16|2012|  4| 16|         2|\n| Banco Alvorada S.A.|     RUA BOA VISTA|     10|Diogo Sanguino|2013-03-13|         3|              null|   2145.74|            3.00|      10|       6|        16| COQUEIROS|       13| SOROCABA|        3|S?o Paulo|2012-04-16|2012|  4| 16|         2|\n+--------------------+------------------+-------+--------------+----------+----------+------------------+----------+----------------+--------+--------+----------+----------+---------+---------+---------+---------+----------+----+---+---+----------+\nonly showing top 20 rows\n\n"
     ]
    }
   ],
   "source": [
    "from pyspark.sql.functions import col, year, month, dayofmonth, dayofweek\n",
    "\n",
    "# todas as dimensões\n",
    "client_dim = ['cd_cliente','nm_cliente','cd_tp_cliente','nm_tp_cliente','nr_habilitacao','nr_estrelas','cd_fone_cliente','nm_fone_cliente','cd_operadora','nm_operadora']\n",
    "\n",
    "produto_dim = [\n",
    "    # 'nm_veiculo',\n",
    "    'nm_modelo',\n",
    "    'nr_placa','nr_chassis','km_atual']\n",
    "\n",
    "loja_dim = ['cd_agencia','nm_agencia',\n",
    "            # 'dt_ult_reforma',\n",
    "            'cd_cidade','nm_cidade','cd_estado','nm_estado']\n",
    "\n",
    "agencia_bco_dim = ['nm_banco', 'nm_age_bco']\n",
    "\n",
    "data_dim = ['dt_locacao']\n",
    "\n",
    "funcionario_dim = ['cd_func','nm_func','dt_inicio','cd_gerente','nr_cpf_funcionario','vl_salario','vl_perc_comissao','cd_depto','cd_cargo']\n",
    "\n",
    "processo_dim = ['dt_entrega', 'dt_retirada']\n",
    "\n",
    "proprietario_dim = ['nm_proprietario']\n",
    "\n",
    "modelo_dim = ['nm_fabricante']\n",
    "\n",
    "tp_veiculo_dim = ['nm_tp_automovel']\n",
    "\n",
    "# star schema pedido\n",
    "fato_pedido = ['vl_total', 'item_pedido_vl_diaria', 'item_pedido_vl_diaria_calc', 'veiculo_vl_diaria', 'km_atual']\n",
    "\n",
    "star_schema1 = manager.select(client_dim + produto_dim + loja_dim + data_dim + funcionario_dim + processo_dim + fato_pedido)\n",
    "\n",
    "star_schema1 = star_schema1\\\n",
    "    .withColumn('ano', year('dt_locacao'))\\\n",
    "    .withColumn('mes', month('dt_locacao'))\\\n",
    "    .withColumn('dia', dayofmonth('dt_locacao'))\\\n",
    "    .withColumn('dia_semana', dayofweek('dt_locacao'))\n",
    "\n",
    "# star schema de produto\n",
    "fato_produto = ['vl_total', 'item_pedido_vl_diaria', 'item_pedido_vl_diaria_calc', 'veiculo_vl_diaria', 'km_atual']\n",
    "\n",
    "star_schema2 = manager.select(produto_dim + proprietario_dim + loja_dim + modelo_dim + tp_veiculo_dim + data_dim)\n",
    "\n",
    "star_schema2 = star_schema2\\\n",
    "    .withColumn('ano', year('dt_locacao'))\\\n",
    "    .withColumn('mes', month('dt_locacao'))\\\n",
    "    .withColumn('dia', dayofmonth('dt_locacao'))\\\n",
    "    .withColumn('dia_semana', dayofweek('dt_locacao'))\n",
    "\n",
    "# star schema de lojas\n",
    "fato_produto = ['vl_total', 'item_pedido_vl_diaria', 'item_pedido_vl_diaria_calc', 'veiculo_vl_diaria', 'km_atual']\n",
    "\n",
    "star_schema3 = manager.select(agencia_bco_dim + funcionario_dim + loja_dim + data_dim)\n",
    "\n",
    "star_schema3 = star_schema3\\\n",
    "    .withColumn('ano', year('dt_locacao'))\\\n",
    "    .withColumn('mes', month('dt_locacao'))\\\n",
    "    .withColumn('dia', dayofmonth('dt_locacao'))\\\n",
    "    .withColumn('dia_semana', dayofweek('dt_locacao'))\n",
    "\n",
    "print(\"STAR SCHEMA PEDIDO\")\n",
    "star_schema1.show()\n",
    "\n",
    "print(\"STAR SCHEMA PRODUTO\")\n",
    "star_schema2.show()\n",
    "\n",
    "print(\"STAR SCHEMA LOJAS\")\n",
    "star_schema3.show()"
   ]
  }
 ],
 "metadata": {
  "application/vnd.databricks.v1+notebook": {
   "dashboards": [],
   "environmentMetadata": null,
   "language": "python",
   "notebookMetadata": {
    "pythonIndentUnit": 4
   },
   "notebookName": "ESPM Data Lake - Trabalho Semestral",
   "widgets": {}
  }
 },
 "nbformat": 4,
 "nbformat_minor": 0
}
